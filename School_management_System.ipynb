{
 "cells": [
  {
   "cell_type": "code",
   "execution_count": null,
   "metadata": {},
   "outputs": [],
   "source": [
    "class Person:\n",
    "    def __init__(self) -> None:\n",
    "        pass"
   ]
  },
  {
   "cell_type": "code",
   "execution_count": 1,
   "metadata": {},
   "outputs": [],
   "source": [
    "# Base Class: Person\n",
    "class Person:\n",
    "    def __init__(self, name, age, contact_number):\n",
    "        self.name = name\n",
    "        self.age = age\n",
    "        self.contact_number = contact_number\n",
    "    \n",
    "    def get_details(self):\n",
    "        return f\"Name: {self.name}, Age: {self.age}, Contact: {self.contact_number}\"\n",
    "\n",
    "# Student Class: Inherits from Person\n",
    "class Student(Person):\n",
    "    def __init__(self, name, age, contact_number, student_id, grade):\n",
    "        super().__init__(name, age, contact_number)\n",
    "        self.student_id = student_id\n",
    "        self.grade = grade\n",
    "        self.subjects = []\n",
    "    \n",
    "    def enroll_subject(self, subject):\n",
    "        self.subjects.append(subject)\n",
    "    \n",
    "    def view_grades(self):\n",
    "        return {subject: \"Grade TBD\" for subject in self.subjects}\n",
    "\n",
    "# Teacher Class: Inherits from Person\n",
    "class Teacher(Person):\n",
    "    def __init__(self, name, age, contact_number, employee_id, specialization):\n",
    "        super().__init__(name, age, contact_number)\n",
    "        self.employee_id = employee_id\n",
    "        self.specialization = specialization\n",
    "        self.subjects_taught = []\n",
    "\n",
    "    def add_subject(self, subject):\n",
    "        self.subjects_taught.append(subject)\n",
    "    \n",
    "    def assign_grade(self, student, subject, grade):\n",
    "        # Logic for assigning grade to a student\n",
    "        pass\n"
   ]
  },
  {
   "cell_type": "code",
   "execution_count": null,
   "metadata": {},
   "outputs": [],
   "source": [
    "# Base Class: Person\n",
    "class Person:\n",
    "    def __init__(self, name, age, contact_number):\n",
    "        self.name = name\n",
    "        self.age = age\n",
    "        self.contact_number = contact_number\n",
    "    \n",
    "    def get_details(self):\n",
    "        return f\"Name: {self.name}, Age: {self.age}, Contact: {self.contact_number}\"\n",
    "\n",
    "# Student Class: Inherits from Person\n",
    "class Student(Person):\n",
    "    def __init__(self, name, age, contact_number, student_id, grade):\n",
    "        super().__init__(name, age, contact_number)\n",
    "        self.student_id = student_id\n",
    "        self.grade = grade\n",
    "        self.subjects = {}  # subject : grade\n",
    "    \n",
    "    def enroll_subject(self, subject):\n",
    "        if subject not in self.subjects:\n",
    "            self.subjects[subject] = \"Not Assigned\"\n",
    "    \n",
    "    def view_grades(self):\n",
    "        return self.subjects\n",
    "\n",
    "# Teacher Class: Inherits from Person\n",
    "class Teacher(Person):\n",
    "    def __init__(self, name, age, contact_number, employee_id, specialization):\n",
    "        super().__init__(name, age, contact_number)\n",
    "        self.employee_id = employee_id\n",
    "        self.specialization = specialization\n",
    "        self.subjects_taught = []\n",
    "\n",
    "    def add_subject(self, subject):\n",
    "        if subject not in self.subjects_taught:\n",
    "            self.subjects_taught.append(subject)\n",
    "    \n",
    "    def assign_grade(self, student, subject, grade):\n",
    "        if subject in student.subjects:\n",
    "            student.subjects[subject] = grade\n",
    "            return f\"Grade '{grade}' assigned to {student.name} for {subject}.\"\n",
    "        else:\n",
    "            return f\"{student.name} is not enrolled in {subject}.\"\n"
   ]
  },
  {
   "cell_type": "code",
   "execution_count": 18,
   "metadata": {},
   "outputs": [],
   "source": [
    "sattar=Person(\"Abdul Sattar\",24,\"03252467739\")"
   ]
  },
  {
   "cell_type": "code",
   "execution_count": 9,
   "metadata": {},
   "outputs": [
    {
     "data": {
      "text/plain": [
       "'Name: Abdul Sattar, Age: 24, Contact: 03252467739'"
      ]
     },
     "execution_count": 9,
     "metadata": {},
     "output_type": "execute_result"
    }
   ],
   "source": [
    "sattar.get_details()"
   ]
  },
  {
   "cell_type": "code",
   "execution_count": 20,
   "metadata": {},
   "outputs": [],
   "source": [
    "sattar=Teacher(\"sdkvbks\",12,\"44895349\",\"498569546\",\"Expert\")"
   ]
  },
  {
   "cell_type": "code",
   "execution_count": 22,
   "metadata": {},
   "outputs": [],
   "source": [
    "sattar.add_subject(\"English\")"
   ]
  }
 ],
 "metadata": {
  "kernelspec": {
   "display_name": "Python 3",
   "language": "python",
   "name": "python3"
  },
  "language_info": {
   "codemirror_mode": {
    "name": "ipython",
    "version": 3
   },
   "file_extension": ".py",
   "mimetype": "text/x-python",
   "name": "python",
   "nbconvert_exporter": "python",
   "pygments_lexer": "ipython3",
   "version": "3.12.2"
  }
 },
 "nbformat": 4,
 "nbformat_minor": 2
}
